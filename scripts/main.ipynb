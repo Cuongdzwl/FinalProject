{
 "cells": [
  {
   "cell_type": "code",
   "execution_count": 8,
   "metadata": {},
   "outputs": [],
   "source": [
    "import requests\n",
    "import time\n",
    "\n",
    "import concurrent.futures\n",
    "\n",
    "origin = 'http://localhost:3000'\n",
    "# origin = 'http://dev-nodejs.cuongnd.work'\n",
    "\n",
    "url = origin + '/api/v1/users/'\n",
    "headers = {\n",
    "    'Cookie': 'XSRF-TOKEN=cCHAqwAz-wejvNzYwYuoixFplCfE4jss0KKg; _csrf=nj3chbqF-q_HMc97uQs3RoXO'\n",
    "}\n",
    "\n",
    "start_time = time.time()\n",
    "\n",
    "def make_request(url):\n",
    "    response = requests.get(url, headers=headers)\n",
    "    return response\n",
    "\n",
    "with concurrent.futures.ThreadPoolExecutor(max_workers=20) as executor:\n",
    "    futures = [executor.submit(make_request, url) for _ in range(1000000)]\n",
    "    responses = [future.result() for future in concurrent.futures.as_completed(futures)]\n",
    "\n",
    "end_time = time.time()\n",
    "duration = end_time - start_time\n",
    "\n",
    "print(f\"Time taken: {duration} seconds\")"
   ]
  }
 ],
 "metadata": {
  "kernelspec": {
   "display_name": "Python 3",
   "language": "python",
   "name": "python3"
  },
  "language_info": {
   "codemirror_mode": {
    "name": "ipython",
    "version": 3
   },
   "file_extension": ".py",
   "mimetype": "text/x-python",
   "name": "python",
   "nbconvert_exporter": "python",
   "pygments_lexer": "ipython3",
   "version": "3.12.2"
  }
 },
 "nbformat": 4,
 "nbformat_minor": 2
}
